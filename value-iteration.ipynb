{
 "cells": [
  {
   "cell_type": "markdown",
   "metadata": {},
   "source": [
    "# Stochastic Optimization : PW4\n",
    "\n",
    "Authors:\n",
    "Leopold Hebert-Stevens - Adrien Loizeau"
   ]
  },
  {
   "cell_type": "markdown",
   "metadata": {},
   "source": [
    "## I. Ingredients for a MDP:"
   ]
  },
  {
   "cell_type": "markdown",
   "metadata": {},
   "source": [
    "**$\\mathcal{A}$** The set of actions: "
   ]
  },
  {
   "cell_type": "code",
   "execution_count": 5,
   "metadata": {},
   "outputs": [],
   "source": [
    "# Set of actions and states possible\n",
    "def action(s):\n",
    "    if s <= 10:\n",
    "        return [\"keep\",\"replace\"]\n",
    "    elif s == 10:\n",
    "        return [\"replace\"]"
   ]
  },
  {
   "cell_type": "markdown",
   "metadata": {},
   "source": [
    "**$\\mathcal{R}$** The rewards:"
   ]
  },
  {
   "cell_type": "code",
   "execution_count": 6,
   "metadata": {},
   "outputs": [],
   "source": [
    "# Defining the rewards depending in the action\n",
    "def reward(s, a):\n",
    "    if a == \"keep\":\n",
    "        return (8+ s - 0.15 * s**2)*m\n",
    "\n",
    "    elif a == \"replace\":\n",
    "        return (8+ s - 0.15 * s**2)*m - c\n",
    "\n",
    "    else:\n",
    "        return 0"
   ]
  },
  {
   "cell_type": "markdown",
   "metadata": {},
   "source": [
    "**$\\mathcal{T}$**: Transition function"
   ]
  },
  {
   "cell_type": "code",
   "execution_count": 7,
   "metadata": {},
   "outputs": [],
   "source": [
    "# Defining the transition depending on the next state and the action\n",
    "def transition(s, a, s_1):\n",
    "    if a ==\"keep\":\n",
    "        if s <= 8:\n",
    "            if s_1 == s + 1:\n",
    "                return p\n",
    "            elif s_1 == s + 2:\n",
    "                return 1 - p\n",
    "            else:\n",
    "                return 0\n",
    "        elif s == 9:\n",
    "            if s_1 == 10:\n",
    "                return 1\n",
    "            else:\n",
    "                return 0\n",
    "        else:\n",
    "            return 0\n",
    "    if a ==\"replace\":\n",
    "        if s_1 == 1:\n",
    "            return 1\n",
    "        else :\n",
    "            return 0\n",
    "    else :\n",
    "        return 0"
   ]
  },
  {
   "cell_type": "markdown",
   "metadata": {},
   "source": [
    "**$\\mathcal{S}$**: Defining the different states"
   ]
  },
  {
   "cell_type": "code",
   "execution_count": 8,
   "metadata": {},
   "outputs": [],
   "source": [
    "import numpy as np\n",
    "states = np.array(range(1,10))"
   ]
  },
  {
   "cell_type": "markdown",
   "metadata": {},
   "source": [
    "**$\\mathcal{V}$**: Initializing the value function "
   ]
  },
  {
   "cell_type": "code",
   "execution_count": 9,
   "metadata": {},
   "outputs": [],
   "source": [
    "# Initializing the value function values to 0\n",
    "V = np.zeros(10)"
   ]
  },
  {
   "cell_type": "markdown",
   "metadata": {},
   "source": [
    "**$\\mathcal{π}$**: Initializing the policies"
   ]
  },
  {
   "cell_type": "code",
   "execution_count": 10,
   "metadata": {},
   "outputs": [],
   "source": [
    "# Initializing the policy values to 0\n",
    "policy = np.zeros(10)"
   ]
  },
  {
   "cell_type": "markdown",
   "metadata": {},
   "source": [
    "# II. Creating the Value Iteration "
   ]
  },
  {
   "cell_type": "code",
   "execution_count": 11,
   "metadata": {},
   "outputs": [],
   "source": [
    "def value_iteration(threshold, V, policy,states, gamma):\n",
    "    max_iter = 100\n",
    "    iter = 0\n",
    "\n",
    "    for i in range(max_iter):\n",
    "        # Store the previous value function\n",
    "        V_prev = V.copy()\n",
    "        # For each state (except the last one)\n",
    "        for s in states:\n",
    "            val = []\n",
    "            # For each possible action at this state\n",
    "            for a in action(s):\n",
    "                # Calculate the value of the Bellman's equation\n",
    "                val.append((a, reward(s, a) + gamma * sum([transition(s, a, sp) * V_prev[sp-1] for sp in states])))\n",
    "            # We keep only the max value\n",
    "            maxi = max(val, key=lambda tup: tup[1])\n",
    "\n",
    "            # We keep it\n",
    "            V[s-1] = maxi[1]\n",
    "            # We keep the corresponding policy of the optimal state\n",
    "            if maxi[0] == \"keep\":\n",
    "                policy[s-1] = 0\n",
    "            else:\n",
    "                policy[s-1] = 1\n",
    "        iter +=1\n",
    "\n",
    "        # Check for convergence\n",
    "        if np.abs(V - V_prev).max() < threshold:\n",
    "            break\n",
    "\n",
    "    return V, policy"
   ]
  },
  {
   "cell_type": "markdown",
   "metadata": {},
   "source": [
    "# III. Running the Value Iteration"
   ]
  },
  {
   "cell_type": "code",
   "execution_count": 12,
   "metadata": {},
   "outputs": [
    {
     "name": "stdout",
     "output_type": "stream",
     "text": [
      "The value function of each state is \n",
      " [13120.05325026 13112.38324944 13017.29492084 12871.19946495\n",
      " 12712.85401769 12598.01413269 12455.51413269 12268.01413269\n",
      " 12035.51413269     0.        ]\n",
      "With the corresponding policy: \n",
      " [0. 0. 0. 0. 0. 1. 1. 1. 1. 0.]\n"
     ]
    }
   ],
   "source": [
    "# The cost of replacement\n",
    "c = 500\n",
    "\n",
    "# The profit of each ton of candy\n",
    "m = 150\n",
    "\n",
    "# The probability p of getting to a efficiency state\n",
    "p = 0.9\n",
    "\n",
    "# The discounted utility\n",
    "gamma = 0.9\n",
    "\n",
    "\n",
    "# Set the convergence threshold\n",
    "threshold = 1e-6\n",
    "\n",
    "\n",
    "\n",
    "V, policy = value_iteration(threshold, V, policy,states, gamma)\n",
    "\n",
    "\n",
    "print(\"The value function of each state is \\n\",V)\n",
    "print(\"With the corresponding policy: \\n\", policy)"
   ]
  }
 ],
 "metadata": {
  "kernelspec": {
   "display_name": "Python 3.8.5 ('base')",
   "language": "python",
   "name": "python3"
  },
  "language_info": {
   "codemirror_mode": {
    "name": "ipython",
    "version": 3
   },
   "file_extension": ".py",
   "mimetype": "text/x-python",
   "name": "python",
   "nbconvert_exporter": "python",
   "pygments_lexer": "ipython3",
   "version": "3.8.5"
  },
  "orig_nbformat": 4,
  "vscode": {
   "interpreter": {
    "hash": "617dc6a0ed4469626c5c4750b0c697729f8718e62d0adec04bea107fe7c4a534"
   }
  }
 },
 "nbformat": 4,
 "nbformat_minor": 2
}
